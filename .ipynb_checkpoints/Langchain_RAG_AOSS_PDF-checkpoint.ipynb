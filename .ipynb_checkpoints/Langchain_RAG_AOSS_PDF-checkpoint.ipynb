{
 "cells": [
  {
   "cell_type": "markdown",
   "id": "62af74cd",
   "metadata": {},
   "source": [
    "## RAG with LangChain and AOSS"
   ]
  },
  {
   "cell_type": "code",
   "execution_count": 4,
   "id": "e3c7b519",
   "metadata": {},
   "outputs": [],
   "source": [
    "import boto3\n",
    "from langchain.llms.bedrock import Bedrock\n",
    "from langchain.embeddings import BedrockEmbeddings\n",
    "# import os\n",
    "from langchain.load.dump import dumps\n"
   ]
  },
  {
   "cell_type": "code",
   "execution_count": 5,
   "id": "bb98641f",
   "metadata": {},
   "outputs": [],
   "source": [
    "# Initialize the bedrock client\n",
    "bedrockRuntimeClient = boto3.client('bedrock-runtime')\n",
    "inference_modelId = \"anthropic.claude-v2:1\"\n",
    "llmModel = Bedrock(model_id=inference_modelId, client=bedrockRuntimeClient)"
   ]
  },
  {
   "cell_type": "code",
   "execution_count": 6,
   "id": "da183949",
   "metadata": {},
   "outputs": [
    {
     "name": "stdout",
     "output_type": "stream",
     "text": [
      "0.27929688\n"
     ]
    }
   ],
   "source": [
    "# Using Titan for the embeddings model\n",
    "\n",
    "embeddings = BedrockEmbeddings(\n",
    "    model_id='amazon.titan-embed-text-v1',\n",
    "    client=bedrockRuntimeClient\n",
    ")\n",
    "\n",
    "query = 'AWS reinvent in coming in Vegas 2023'\n",
    "\n",
    "embeddings_output = embeddings.embed_query(query)\n",
    "print(embeddings_output[0])"
   ]
  },
  {
   "cell_type": "code",
   "execution_count": 5,
   "id": "aeb3937e-706d-4de4-94ee-65f3eb95e04b",
   "metadata": {},
   "outputs": [
    {
     "name": "stdout",
     "output_type": "stream",
     "text": [
      "/home/sagemaker-user\n"
     ]
    }
   ],
   "source": [
    "!pwd"
   ]
  },
  {
   "cell_type": "code",
   "execution_count": 19,
   "id": "322b6ee4",
   "metadata": {},
   "outputs": [
    {
     "name": "stdout",
     "output_type": "stream",
     "text": [
      "/home/sagemaker-user/download/p1544.pdf\n",
      "/home/sagemaker-user/download/p15.pdf\n",
      "/home/sagemaker-user/download/p1212.pdf\n"
     ]
    }
   ],
   "source": [
    "# Download pdf files\n",
    "from urllib.request import urlretrieve\n",
    "dir_path = '/home/sagemaker-user/download'\n",
    "\n",
    "files = [\n",
    "    \"https://www.irs.gov/pub/irs-pdf/p1544.pdf\",\n",
    "    \"https://www.irs.gov/pub/irs-pdf/p15.pdf\",\n",
    "    \"https://www.irs.gov/pub/irs-pdf/p1212.pdf\",\n",
    "]\n",
    "for url in files:\n",
    "    file_path = f'{dir_path}/{url.rpartition(\"/\")[2]}'\n",
    "    try:\n",
    "        urlretrieve(url, file_path)\n",
    "        print(file_path)\n",
    "    except Exception as e:\n",
    "        print(e)"
   ]
  },
  {
   "cell_type": "code",
   "execution_count": 20,
   "id": "f980cb68",
   "metadata": {},
   "outputs": [
    {
     "name": "stdout",
     "output_type": "stream",
     "text": [
      "page_content=\"Future Developments\\nFor the latest information about developments \\nrelated to Publication 1544, such as legislation \\nenacted after it was published, go to \\nwww.irs.gov/pub1544 .\\nWhat's New\\nElectronic filing. You may be able to file Form \\n8300 by using FinCEN's Bank Secrecy Act \\n(BSA) Electronic Filing (E-Filing) System. See \\nWhen, Where, and What To File , later.\\nIntroduction\\nIf, in a 12-month period, you receive more than \\n$10,000 in cash from one buyer as a result of a \\ntransaction in your trade or business, you must \\nreport it to the Internal Revenue Service (IRS) \\nand the Financial Crimes Enforcement Network \\n(FinCEN) on Form 8300, Report of Cash Pay\\xad\\nments Over $10,000 Received in a Trade or \\nBusiness .\\nThis publication explains why, when, and \\nwhere to report these cash payments. It also \\ndiscusses the substantial penalties for not re-\\nporting them.\\nSome organizations do not have to file Form \\n8300, including financial institutions and casi-\" metadata={'source': '/home/sagemaker-user/download/p1544.pdf', 'page': 0}\n"
     ]
    }
   ],
   "source": [
    "#Split the characters in the documents by number of chars\n",
    "\n",
    "from langchain.text_splitter import CharacterTextSplitter, RecursiveCharacterTextSplitter\n",
    "from langchain.document_loaders import PyPDFLoader, PyPDFDirectoryLoader\n",
    "\n",
    "loader = PyPDFDirectoryLoader(dir_path)\n",
    "\n",
    "documents = loader.load()\n",
    "# - in our testing Character split works better with this PDF data set\n",
    "text_splitter = RecursiveCharacterTextSplitter(\n",
    "    chunk_size=1000,\n",
    "    chunk_overlap=100,\n",
    ")\n",
    "docs = text_splitter.split_documents(documents)\n",
    "print(docs[0])"
   ]
  },
  {
   "cell_type": "code",
   "execution_count": 21,
   "id": "e6bebd8d",
   "metadata": {},
   "outputs": [
    {
     "name": "stdout",
     "output_type": "stream",
     "text": [
      "Average length among 81 documents loaded is 5889 characters.\n",
      "After the split we have 560 compared the original 81.\n",
      "Average length among 560 documents (after split) is 912 characters.\n"
     ]
    }
   ],
   "source": [
    "#See stats of splits\n",
    "\n",
    "avg_doc_length = lambda documents: sum([len(doc.page_content) for doc in documents])//len(documents)\n",
    "avg_char_count_pre = avg_doc_length(documents)\n",
    "avg_char_count_post = avg_doc_length(docs)\n",
    "print(f'Average length among {len(documents)} documents loaded is {avg_char_count_pre} characters.')\n",
    "print(f'After the split we have {len(docs)} compared the original {len(documents)}.')\n",
    "print(f'Average length among {len(docs)} documents (after split) is {avg_char_count_post} characters.')"
   ]
  },
  {
   "cell_type": "code",
   "execution_count": 22,
   "id": "c51778a9",
   "metadata": {},
   "outputs": [],
   "source": [
    "#initialize the opensearch client\n",
    "\n",
    "vector_store_name = 'bedrock-workshop-rag'\n",
    "index_name = \"bedrock-workshop-rag-index\"\n",
    "aoss_client = boto3.client('opensearchserverless')"
   ]
  },
  {
   "cell_type": "code",
   "execution_count": 7,
   "id": "927297cf",
   "metadata": {},
   "outputs": [],
   "source": [
    "#create auth for access to aoss\n",
    "\n",
    "from opensearchpy import AWSV4SignerAuth\n",
    "service = 'aoss'\n",
    "region = 'us-east-1'\n",
    "credentials = boto3.Session().get_credentials()\n",
    "auth=AWSV4SignerAuth(credentials, region, service)\n"
   ]
  },
  {
   "cell_type": "code",
   "execution_count": 8,
   "id": "4541da04",
   "metadata": {},
   "outputs": [
    {
     "ename": "NameError",
     "evalue": "name 'aoss_client' is not defined",
     "output_type": "error",
     "traceback": [
      "\u001b[0;31m---------------------------------------------------------------------------\u001b[0m",
      "\u001b[0;31mNameError\u001b[0m                                 Traceback (most recent call last)",
      "Cell \u001b[0;32mIn[8], line 2\u001b[0m\n\u001b[1;32m      1\u001b[0m \u001b[38;5;66;03m# create AOSS collection \u001b[39;00m\n\u001b[0;32m----> 2\u001b[0m collection \u001b[38;5;241m=\u001b[39m \u001b[43maoss_client\u001b[49m\u001b[38;5;241m.\u001b[39mcreate_collection(name\u001b[38;5;241m=\u001b[39mvector_store_name,\u001b[38;5;28mtype\u001b[39m\u001b[38;5;241m=\u001b[39m\u001b[38;5;124m'\u001b[39m\u001b[38;5;124mVECTORSEARCH\u001b[39m\u001b[38;5;124m'\u001b[39m)\n",
      "\u001b[0;31mNameError\u001b[0m: name 'aoss_client' is not defined"
     ]
    }
   ],
   "source": [
    "# create AOSS collection \n",
    "collection = aoss_client.create_collection(name=vector_store_name, type='VECTORSEARCH')"
   ]
  },
  {
   "cell_type": "code",
   "execution_count": 10,
   "id": "622fdf6d",
   "metadata": {},
   "outputs": [
    {
     "data": {
      "text/plain": [
       "{'collectionSummaries': [{'arn': 'arn:aws:aoss:us-east-1:033466939092:collection/dpfi77o8cqzlbaoipgwa',\n",
       "   'id': 'dpfi77o8cqzlbaoipgwa',\n",
       "   'name': 'bedrock-knowledge-base-l5e4lf',\n",
       "   'status': 'ACTIVE'},\n",
       "  {'arn': 'arn:aws:aoss:us-east-1:033466939092:collection/e8ug46zf95a4qhdy5k35',\n",
       "   'id': 'e8ug46zf95a4qhdy5k35',\n",
       "   'name': 'bedrock-workshop-rag',\n",
       "   'status': 'ACTIVE'}],\n",
       " 'ResponseMetadata': {'RequestId': 'd878a658-b10b-42a4-8985-c37027444e47',\n",
       "  'HTTPStatusCode': 200,\n",
       "  'HTTPHeaders': {'x-amzn-requestid': 'd878a658-b10b-42a4-8985-c37027444e47',\n",
       "   'date': 'Sun, 18 Feb 2024 10:56:23 GMT',\n",
       "   'content-type': 'application/x-amz-json-1.0',\n",
       "   'content-length': '342',\n",
       "   'connection': 'keep-alive'},\n",
       "  'RetryAttempts': 0}}"
      ]
     },
     "execution_count": 10,
     "metadata": {},
     "output_type": "execute_result"
    }
   ],
   "source": [
    "#List collection in AOSS\n",
    "\n",
    "aoss_client.list_collections()"
   ]
  },
  {
   "cell_type": "code",
   "execution_count": 11,
   "id": "e7d35736",
   "metadata": {},
   "outputs": [
    {
     "data": {
      "text/plain": [
       "{'collectionDetails': [{'arn': 'arn:aws:aoss:us-east-1:033466939092:collection/e8ug46zf95a4qhdy5k35',\n",
       "   'collectionEndpoint': 'https://e8ug46zf95a4qhdy5k35.us-east-1.aoss.amazonaws.com',\n",
       "   'createdDate': 1708187762359,\n",
       "   'dashboardEndpoint': 'https://e8ug46zf95a4qhdy5k35.us-east-1.aoss.amazonaws.com/_dashboards',\n",
       "   'id': 'e8ug46zf95a4qhdy5k35',\n",
       "   'kmsKeyArn': 'auto',\n",
       "   'lastModifiedDate': 1708187785689,\n",
       "   'name': 'bedrock-workshop-rag',\n",
       "   'status': 'ACTIVE',\n",
       "   'type': 'VECTORSEARCH'}],\n",
       " 'collectionErrorDetails': [],\n",
       " 'ResponseMetadata': {'RequestId': 'f65da36f-a704-45cf-ac35-aaf5d8a10e26',\n",
       "  'HTTPStatusCode': 200,\n",
       "  'HTTPHeaders': {'x-amzn-requestid': 'f65da36f-a704-45cf-ac35-aaf5d8a10e26',\n",
       "   'date': 'Sun, 18 Feb 2024 10:56:26 GMT',\n",
       "   'content-type': 'application/x-amz-json-1.0',\n",
       "   'content-length': '508',\n",
       "   'connection': 'keep-alive'},\n",
       "  'RetryAttempts': 0}}"
      ]
     },
     "execution_count": 11,
     "metadata": {},
     "output_type": "execute_result"
    }
   ],
   "source": [
    "aoss_client_details = aoss_client.batch_get_collection(ids=['e8ug46zf95a4qhdy5k35'])\n",
    "aoss_client_details"
   ]
  },
  {
   "cell_type": "code",
   "execution_count": 12,
   "id": "40a43c03",
   "metadata": {},
   "outputs": [
    {
     "data": {
      "text/plain": [
       "[{'arn': 'arn:aws:aoss:us-east-1:033466939092:collection/e8ug46zf95a4qhdy5k35',\n",
       "  'collectionEndpoint': 'https://e8ug46zf95a4qhdy5k35.us-east-1.aoss.amazonaws.com',\n",
       "  'createdDate': 1708187762359,\n",
       "  'dashboardEndpoint': 'https://e8ug46zf95a4qhdy5k35.us-east-1.aoss.amazonaws.com/_dashboards',\n",
       "  'id': 'e8ug46zf95a4qhdy5k35',\n",
       "  'kmsKeyArn': 'auto',\n",
       "  'lastModifiedDate': 1708187785689,\n",
       "  'name': 'bedrock-workshop-rag',\n",
       "  'status': 'ACTIVE',\n",
       "  'type': 'VECTORSEARCH'}]"
      ]
     },
     "execution_count": 12,
     "metadata": {},
     "output_type": "execute_result"
    }
   ],
   "source": [
    "aoss_client_details['collectionDetails']"
   ]
  },
  {
   "cell_type": "code",
   "execution_count": 13,
   "id": "1e9e01a7",
   "metadata": {},
   "outputs": [],
   "source": [
    "#Extract and set the host and index names\n",
    "\n",
    "host = aoss_client_details['collectionDetails'][0]['collectionEndpoint']\n",
    "index_name = 'bedrock-workshop-rag-index'\n"
   ]
  },
  {
   "cell_type": "code",
   "execution_count": 25,
   "id": "76f6461f",
   "metadata": {},
   "outputs": [],
   "source": [
    "# initialize the vector search context and ingest embeddings into aoss\n",
    "\n",
    "from opensearchpy import OpenSearch, RequestsHttpConnection\n",
    "from langchain.vectorstores import OpenSearchVectorSearch\n",
    "\n",
    "docsearch = OpenSearchVectorSearch.from_documents(\n",
    "    docs,\n",
    "    embeddings,\n",
    "    opensearch_url=host,\n",
    "    index_name=index_name,\n",
    "    connection_class=RequestsHttpConnection,\n",
    "    engine=\"faiss\",\n",
    "    timeout=100,\n",
    "    bulk_size=1000,\n",
    "    http_auth=auth\n",
    ")"
   ]
  },
  {
   "cell_type": "code",
   "execution_count": 26,
   "id": "ab39620a",
   "metadata": {},
   "outputs": [
    {
     "name": "stdout",
     "output_type": "stream",
     "text": [
      "[\n",
      "  {\n",
      "    \"lc\": 1,\n",
      "    \"type\": \"constructor\",\n",
      "    \"id\": [\n",
      "      \"langchain\",\n",
      "      \"schema\",\n",
      "      \"document\",\n",
      "      \"Document\"\n",
      "    ],\n",
      "    \"kwargs\": {\n",
      "      \"page_content\": \"substance,\\n2.Racketeering,\\n3.Money laundering, and\\n4.Any state offense substantially similar to \\n(1), (2), or (3) above.\\nFor more information about the rules that apply \\nto court clerks, see Section 1.6050I-2 of the In-\\ncome Tax Regulations.\\nWhat Payments Must Be \\nReported?\\nYou must file Form 8300 to report cash paid to \\nyou if it is:\\n1.Over $10,000,\\n2.Received as:\\na.One lump sum of over $10,000,\\nb.Installment payments that cause the \\ntotal cash received within 1 year of the initial payment to total more than \\n$10,000, or\\nc.Other previously unreportable pay-\\nments that cause the total cash re-\\nceived within a 12-month period to to-\\ntal more than $10,000,\\n3.Received in the course of your trade or \\nbusiness,\\n4.Received from the same buyer (or agent), \\nand\\n5.Received in a single transaction or in rela-\\nted transactions (defined later).\\nWhat Is Cash?\\nCash is:\\n1.The coins and currency of the United \\nStates (and any other country), and\\n2.A cashier's check, bank draft, traveler's\",\n",
      "      \"metadata\": {\n",
      "        \"source\": \"/home/ec2-user/download/p1544.pdf\",\n",
      "        \"page\": 1\n",
      "      }\n",
      "    }\n",
      "  },\n",
      "  {\n",
      "    \"lc\": 1,\n",
      "    \"type\": \"constructor\",\n",
      "    \"id\": [\n",
      "      \"langchain\",\n",
      "      \"schema\",\n",
      "      \"document\",\n",
      "      \"Document\"\n",
      "    ],\n",
      "    \"kwargs\": {\n",
      "      \"page_content\": \"substance,\\n2.Racketeering,\\n3.Money laundering, and\\n4.Any state offense substantially similar to \\n(1), (2), or (3) above.\\nFor more information about the rules that apply \\nto court clerks, see Section 1.6050I-2 of the In-\\ncome Tax Regulations.\\nWhat Payments Must Be \\nReported?\\nYou must file Form 8300 to report cash paid to \\nyou if it is:\\n1.Over $10,000,\\n2.Received as:\\na.One lump sum of over $10,000,\\nb.Installment payments that cause the \\ntotal cash received within 1 year of the initial payment to total more than \\n$10,000, or\\nc.Other previously unreportable pay-\\nments that cause the total cash re-\\nceived within a 12-month period to to-\\ntal more than $10,000,\\n3.Received in the course of your trade or \\nbusiness,\\n4.Received from the same buyer (or agent), \\nand\\n5.Received in a single transaction or in rela-\\nted transactions (defined later).\\nWhat Is Cash?\\nCash is:\\n1.The coins and currency of the United \\nStates (and any other country), and\\n2.A cashier's check, bank draft, traveler's\",\n",
      "      \"metadata\": {\n",
      "        \"source\": \"/home/sagemaker-user/download/p1544.pdf\",\n",
      "        \"page\": 1\n",
      "      }\n",
      "    }\n",
      "  },\n",
      "  {\n",
      "    \"lc\": 1,\n",
      "    \"type\": \"constructor\",\n",
      "    \"id\": [\n",
      "      \"langchain\",\n",
      "      \"schema\",\n",
      "      \"document\",\n",
      "      \"Document\"\n",
      "    ],\n",
      "    \"kwargs\": {\n",
      "      \"page_content\": \"IRS  \\nForm 8300\\n(Rev. August 2014)\\nDepartment of the Treasury  \\nInternal Revenue Service Report of Cash Payments Over $10,000 \\nReceived in a Trade or Business\\na See instructions for definition of cash.   \\na Use this form for transactions occurring after August 29, 2014. Do not use prior versions after this date. \\nFor Privacy Act and Paperwork Reduction Act Notice, see the last page. FinCEN  \\nForm 8300\\n(Rev. August 2014)  \\nOMB No. 1506-0018 \\nDepartment of the Treasury \\nFinancial Crimes   \\nEnforcement Network \\n1 Check appropriate box(es) if: a Amends prior report; b Suspicious transaction. \\nPart I Identity of Individual From Whom the Cash Was Received \\n2 If more than one individual is involved, check here and see instructions .................... a\\n3      Last name 4  First name 5  M.I. 6  Taxpayer identification number \\n7      Address (number, street, and apt. or suite no.) 8  Date of birth ... a \\n(see instructions) M M D D Y Y Y Y\",\n",
      "      \"metadata\": {\n",
      "        \"source\": \"/home/ec2-user/download/p1544.pdf\",\n",
      "        \"page\": 5\n",
      "      }\n",
      "    }\n",
      "  }\n",
      "]\n"
     ]
    }
   ],
   "source": [
    "query = \"what are the reporting guidelines for cash payments?\"\n",
    "\n",
    "results = docsearch.similarity_search(query, k=3)  # our search query  # return 3 most relevant docs\n",
    "print(dumps(results, pretty=True))"
   ]
  },
  {
   "cell_type": "code",
   "execution_count": 28,
   "id": "727eabf1",
   "metadata": {},
   "outputs": [
    {
     "data": {
      "text/plain": [
       "\" Based on the information provided, here are the key reporting guidelines for cash payments that must be reported on IRS Form 8300:\\n\\n1. Cash payments over $10,000 must be reported. This includes a single lump sum over $10,000 or installment payments within a 12-month period that total over $10,000. \\n\\n2. The cash must be received in the course of your trade or business.\\n\\n3. The cash must be received from the same buyer (or their agent).  \\n\\n4. The cash must be received in a single transaction or related transactions.\\n\\n5. Cash includes coins, currency, cashier's checks, bank drafts, traveler's checks, and money orders.\\n\\nSo in summary - cash payments over $10,000 received for your business from the same buyer must be reported on Form 8300. The key details are the $10,000 threshold, receipt in your business, and from the same buyer.\""
      ]
     },
     "execution_count": 28,
     "metadata": {},
     "output_type": "execute_result"
    }
   ],
   "source": [
    "from langchain.chains import RetrievalQA\n",
    "query = \"what are the reporting guidelines for cash payments?\"\n",
    "\n",
    "qa = RetrievalQA.from_chain_type(llm=llmModel, chain_type=\"stuff\", retriever=docsearch.as_retriever())\n",
    "qa.run(query)"
   ]
  },
  {
   "cell_type": "code",
   "execution_count": 29,
   "id": "e330a721",
   "metadata": {},
   "outputs": [
    {
     "name": "stdout",
     "output_type": "stream",
     "text": [
      " Based on the information provided, the reporting guidelines for cash payments are:\n",
      "\n",
      "You must file Form 8300 to report cash paid to you if it is:\n",
      "1. Over $10,000\n",
      "2. Received as:\n",
      "a. One lump sum of over $10,000 \n",
      "b. Installment payments that total more than $10,000 within 1 year of the initial payment\n",
      "c. Previously unreportable payments that total more than $10,000 within a 12-month period \n",
      "3. Received in the course of your trade or business\n",
      "4. Received from the same buyer (or agent)  \n",
      "5. Received in a single transaction or related transactions\n",
      "\n",
      "The cash must be received as part of your trade or business. The Form 8300 must be filed if the above conditions are met, to report cash payments over $10,000.\n"
     ]
    }
   ],
   "source": [
    "from langchain.chains import RetrievalQA\n",
    "from langchain.prompts import PromptTemplate\n",
    "\n",
    "prompt_template = \"\"\"Human: Use the following pieces of context to provide a concise answer to the question at the end. If you don't know the answer, just say that you don't know, don't try to make up an answer.\n",
    "\n",
    "{context}\n",
    "\n",
    "Question: {question}\n",
    "Assistant:\"\"\"\n",
    "\n",
    "PROMPT = PromptTemplate(template=prompt_template, input_variables=[\"context\", \"question\"])\n",
    "\n",
    "qa_prompt = RetrievalQA.from_chain_type(\n",
    "    llm=llmModel,\n",
    "    chain_type=\"stuff\",\n",
    "    retriever=docsearch.as_retriever(),\n",
    "    return_source_documents=True,\n",
    "    chain_type_kwargs={\"prompt\": PROMPT},\n",
    ")\n",
    "\n",
    "result = qa_prompt({\"query\": query})\n",
    "print(result[\"result\"])"
   ]
  }
 ],
 "metadata": {
  "kernelspec": {
   "display_name": "Python 3 (ipykernel)",
   "language": "python",
   "name": "python3"
  },
  "language_info": {
   "codemirror_mode": {
    "name": "ipython",
    "version": 3
   },
   "file_extension": ".py",
   "mimetype": "text/x-python",
   "name": "python",
   "nbconvert_exporter": "python",
   "pygments_lexer": "ipython3",
   "version": "3.10.13"
  }
 },
 "nbformat": 4,
 "nbformat_minor": 5
}
